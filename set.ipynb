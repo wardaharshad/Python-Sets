{
 "cells": [
  {
   "cell_type": "code",
   "execution_count": 69,
   "metadata": {
    "scrolled": true
   },
   "outputs": [
    {
     "name": "stdout",
     "output_type": "stream",
     "text": [
      "{'name', 'my', 'and', 'Eric', 'is'}\n"
     ]
    }
   ],
   "source": [
    "print(set(\"my name is Eric and Eric is my name\".split()))"
   ]
  },
  {
   "cell_type": "code",
   "execution_count": 70,
   "metadata": {},
   "outputs": [
    {
     "name": "stdout",
     "output_type": "stream",
     "text": [
      "{'Jake', 'Eric', 'John'}\n",
      "{'Jill', 'John'}\n"
     ]
    }
   ],
   "source": [
    "#how to make sets\n",
    "a = set([\"Jake\", \"John\", \"Eric\",\"Eric\"])\n",
    "print(a)\n",
    "b = set([\"John\", \"Jill\"])\n",
    "print(b)"
   ]
  },
  {
   "cell_type": "code",
   "execution_count": 71,
   "metadata": {},
   "outputs": [
    {
     "name": "stdout",
     "output_type": "stream",
     "text": [
      "{'unais', 'John'}\n",
      "{'unais', 'John'}\n"
     ]
    }
   ],
   "source": [
    "#how to take common or intersection\n",
    "\n",
    "a = set([\"Jake\", \"John\", \"Eric\",\"unais\"])\n",
    "b = set([\"John\", \"Jill\",\"unais\"])\n",
    "\n",
    "print(a.intersection(b))\n",
    "print(b.intersection(a))\n",
    "\n"
   ]
  },
  {
   "cell_type": "code",
   "execution_count": 72,
   "metadata": {},
   "outputs": [
    {
     "name": "stdout",
     "output_type": "stream",
     "text": [
      "{'Jake', 'Eric'}\n",
      "{'Jill'}\n"
     ]
    }
   ],
   "source": [
    "# how to take differences\n",
    "a = set([\"Jake\", \"John\", \"Eric\",\"unais\"])\n",
    "b = set([\"John\", \"Jill\",\"unais\"])\n",
    "print(a.difference(b))\n",
    "print(b.difference(a))"
   ]
  },
  {
   "cell_type": "code",
   "execution_count": 73,
   "metadata": {},
   "outputs": [
    {
     "name": "stdout",
     "output_type": "stream",
     "text": [
      "{'Jake', 'Eric', 'Jill'}\n",
      "{'Jake', 'Eric', 'Jill'}\n"
     ]
    }
   ],
   "source": [
    "# how to make symetric difference\n",
    "a = set([\"Jake\", \"John\", \"Eric\"])\n",
    "b = set([\"John\", \"Jill\"])\n",
    "\n",
    "print(a.symmetric_difference(b))\n",
    "print(b.symmetric_difference(a))"
   ]
  },
  {
   "cell_type": "code",
   "execution_count": 74,
   "metadata": {},
   "outputs": [
    {
     "name": "stdout",
     "output_type": "stream",
     "text": [
      "{1, 2, 3, 4, 5, 6}\n"
     ]
    }
   ],
   "source": [
    "#how to take union \n",
    "a = set([1, 2,3, 5,3,4,5,])\n",
    "b = set([3, 4,5,6])\n",
    "\n",
    "print(a.union(b))"
   ]
  },
  {
   "cell_type": "code",
   "execution_count": 78,
   "metadata": {},
   "outputs": [
    {
     "name": "stdout",
     "output_type": "stream",
     "text": [
      "{1, 2}\n",
      "{1, 2, 3, 4, 5, 6}\n",
      "6\n",
      "{2, 4, 5, 6}\n"
     ]
    }
   ],
   "source": [
    "#how to add or update something in existing set\n",
    "a = set([1,2])\n",
    "b = set([3, 4,5,6])\n",
    "print(a)\n",
    "a.update(b)\n",
    "print(a)\n",
    "print(len(a))\n",
    "a.remove(3)\n",
    "a.pop()\n",
    "\n",
    "print(a)\n"
   ]
  },
  {
   "cell_type": "code",
   "execution_count": 82,
   "metadata": {},
   "outputs": [
    {
     "name": "stdout",
     "output_type": "stream",
     "text": [
      "False\n"
     ]
    }
   ],
   "source": []
  },
  {
   "cell_type": "code",
   "execution_count": 85,
   "metadata": {},
   "outputs": [
    {
     "name": "stdout",
     "output_type": "stream",
     "text": [
      "True\n"
     ]
    }
   ],
   "source": [
    "\n",
    "#how to create isdisjoin\n",
    "a = set([\"Jake\", \"John\", \"Eric\",\"unais\"])\n",
    "b = set([ \"Jill\",\"b\"])\n",
    "print(a.isdisjoint(b))\n",
    "\n"
   ]
  },
  {
   "cell_type": "code",
   "execution_count": 87,
   "metadata": {},
   "outputs": [
    {
     "name": "stdout",
     "output_type": "stream",
     "text": [
      "False\n"
     ]
    }
   ],
   "source": [
    "#how to take subset\n",
    "\n",
    "a = set([1,2,3,4,5])\n",
    "b = set([1,7])\n",
    "print(b.issubset(a))\n",
    "\n",
    "\n"
   ]
  },
  {
   "cell_type": "code",
   "execution_count": null,
   "metadata": {},
   "outputs": [],
   "source": [
    "\n"
   ]
  },
  {
   "cell_type": "code",
   "execution_count": null,
   "metadata": {},
   "outputs": [],
   "source": []
  }
 ],
 "metadata": {
  "kernelspec": {
   "display_name": "Python 3",
   "language": "python",
   "name": "python3"
  },
  "language_info": {
   "codemirror_mode": {
    "name": "ipython",
    "version": 3
   },
   "file_extension": ".py",
   "mimetype": "text/x-python",
   "name": "python",
   "nbconvert_exporter": "python",
   "pygments_lexer": "ipython3",
   "version": "3.7.4"
  }
 },
 "nbformat": 4,
 "nbformat_minor": 2
}
